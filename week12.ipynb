{
  "nbformat": 4,
  "nbformat_minor": 0,
  "metadata": {
    "colab": {
      "name": "week12.ipynb",
      "provenance": [],
      "authorship_tag": "ABX9TyNQEjw8rwNq2LGsaPPOpzXs",
      "include_colab_link": true
    },
    "kernelspec": {
      "name": "python3",
      "display_name": "Python 3"
    }
  },
  "cells": [
    {
      "cell_type": "markdown",
      "metadata": {
        "id": "view-in-github",
        "colab_type": "text"
      },
      "source": [
        "<a href=\"https://colab.research.google.com/github/Li-Yi-Shiang/Computational-Thinking-and-Program-Design/blob/master/week12.ipynb\" target=\"_parent\"><img src=\"https://colab.research.google.com/assets/colab-badge.svg\" alt=\"Open In Colab\"/></a>"
      ]
    },
    {
      "cell_type": "code",
      "metadata": {
        "id": "2Xb16DB3n-Om",
        "outputId": "e28ae21a-581a-40ea-ff6a-c4c4c8b77c84",
        "colab": {
          "base_uri": "https://localhost:8080/"
        }
      },
      "source": [
        "hello1 = \"Hello World!\"\n",
        "hello2 = \"Hello Python\"\n",
        "hello3 = \"Shaquile O'Neil\"\n",
        "\n",
        "s1 = \"123\"\n",
        "s2 = \"456\"\n",
        "s3 = s1 + s2\n",
        "print(s3)\n",
        "s4 = s1 * 2\n",
        "print(s4)\n",
        "\n",
        "s1 = \"An apple a day.\"\n",
        "print(s1.capitalize())\n",
        "print(s1.title())\n",
        "print(s1.swapcase())\n",
        "print(s1.upper())\n",
        "print(s1.lower())"
      ],
      "execution_count": 1,
      "outputs": [
        {
          "output_type": "stream",
          "text": [
            "123456\n",
            "123123\n",
            "An apple a day.\n",
            "An Apple A Day.\n",
            "aN APPLE A DAY.\n",
            "AN APPLE A DAY.\n",
            "an apple a day.\n"
          ],
          "name": "stdout"
        }
      ]
    },
    {
      "cell_type": "code",
      "metadata": {
        "id": "Pd9YEfY1xDcj",
        "outputId": "d26bdeb8-3297-4b1c-a1be-5d80e92469b8",
        "colab": {
          "base_uri": "https://localhost:8080/"
        }
      },
      "source": [
        "favorite_list = [\"strawberry\",\"pineapple\",\"rice\",\"milk\",\"badminton\"]\n",
        "print(favorite_list)"
      ],
      "execution_count": 2,
      "outputs": [
        {
          "output_type": "stream",
          "text": [
            "['strawberry', 'pineapple', 'rice', 'milk', 'badminton']\n"
          ],
          "name": "stdout"
        }
      ]
    },
    {
      "cell_type": "code",
      "metadata": {
        "id": "PaRLl56U3yVx",
        "outputId": "d64750d4-8786-4af9-a928-94b835b09683",
        "colab": {
          "base_uri": "https://localhost:8080/"
        }
      },
      "source": [
        "season = \"1995-1996\" \n",
        "team = \"Chicago Bulls\" \n",
        "coach = \"Phil Jackson\" \n",
        "records = [72, 10] \n",
        "starting_lineup = [\"Ron Harper\", \"Michael Jordan\", \"Scottie Pippen\", \"Dennis Rodman\", \"Luc Longley\"] \n",
        "won_championship = True \n",
        "best_chicago_bulls = list((season, team, coach, records, starting_lineup, won_championship)) \n",
        "print(best_chicago_bulls) \n",
        "print(type(best_chicago_bulls))"
      ],
      "execution_count": 3,
      "outputs": [
        {
          "output_type": "stream",
          "text": [
            "['1995-1996', 'Chicago Bulls', 'Phil Jackson', [72, 10], ['Ron Harper', 'Michael Jordan', 'Scottie Pippen', 'Dennis Rodman', 'Luc Longley'], True]\n",
            "<class 'list'>\n"
          ],
          "name": "stdout"
        }
      ]
    }
  ]
}