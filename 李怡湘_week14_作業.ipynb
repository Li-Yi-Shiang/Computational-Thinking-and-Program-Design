{
  "nbformat": 4,
  "nbformat_minor": 0,
  "metadata": {
    "colab": {
      "name": "李怡湘_week14-作業.ipynb",
      "provenance": [],
      "authorship_tag": "ABX9TyOquajceR2J+MfdPbs3LkLU",
      "include_colab_link": true
    },
    "kernelspec": {
      "name": "python3",
      "display_name": "Python 3"
    }
  },
  "cells": [
    {
      "cell_type": "markdown",
      "metadata": {
        "id": "view-in-github",
        "colab_type": "text"
      },
      "source": [
        "<a href=\"https://colab.research.google.com/github/Li-Yi-Shiang/Computational-Thinking-and-Program-Design/blob/master/%E6%9D%8E%E6%80%A1%E6%B9%98_week14_%E4%BD%9C%E6%A5%AD.ipynb\" target=\"_parent\"><img src=\"https://colab.research.google.com/assets/colab-badge.svg\" alt=\"Open In Colab\"/></a>"
      ]
    },
    {
      "cell_type": "code",
      "metadata": {
        "colab": {
          "base_uri": "https://localhost:8080/"
        },
        "id": "_9RxdUZymHjp",
        "outputId": "3ea7ac3b-08c0-4d6e-e6e8-c2ff4e2e5df4"
      },
      "source": [
        "n = int(input(\"請輸入n值?\"))\r\n",
        "sum = 0\r\n",
        "for i in range(1, n + 1):\r\n",
        "    sum = sum + i*i\r\n",
        "print(\"Total is\", sum)"
      ],
      "execution_count": 11,
      "outputs": [
        {
          "output_type": "stream",
          "text": [
            "請輸入n值?5\n",
            "Total is 55\n"
          ],
          "name": "stdout"
        }
      ]
    },
    {
      "cell_type": "code",
      "metadata": {
        "colab": {
          "base_uri": "https://localhost:8080/"
        },
        "id": "K07qaWwFolRH",
        "outputId": "3122fcf0-6bf2-4db3-f882-a5d2d4c2104b"
      },
      "source": [
        "P = [\"甲\", \"乙\", \"丙\", \"丁\", \"戊\", \"己\"]\r\n",
        "D = [\"pudding\", \"pie\" ,\"candy\" ,\"cake\" ,\"cookies\" ,\"jelly\"]\r\n",
        "for index in range(len(P)):\r\n",
        "  name = P[index]\r\n",
        "  desserts = D[index]\r\n",
        "  print(f\"Hi! My name is {name}. My favorite desssert is {desserts}.\")"
      ],
      "execution_count": 20,
      "outputs": [
        {
          "output_type": "stream",
          "text": [
            "Hi! My name is 甲. My favorite desssert is pudding.\n",
            "Hi! My name is 乙. My favorite desssert is pie.\n",
            "Hi! My name is 丙. My favorite desssert is candy.\n",
            "Hi! My name is 丁. My favorite desssert is cake.\n",
            "Hi! My name is 戊. My favorite desssert is cookies.\n",
            "Hi! My name is 己. My favorite desssert is jelly.\n"
          ],
          "name": "stdout"
        }
      ]
    }
  ]
}