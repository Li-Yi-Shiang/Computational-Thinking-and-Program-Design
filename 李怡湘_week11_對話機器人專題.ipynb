{
  "nbformat": 4,
  "nbformat_minor": 0,
  "metadata": {
    "colab": {
      "name": "李怡湘_week11_對話機器人專題.ipynb",
      "provenance": [],
      "authorship_tag": "ABX9TyP4Zc3CzuxPeO8nfarIR/xL",
      "include_colab_link": true
    },
    "kernelspec": {
      "name": "python3",
      "display_name": "Python 3"
    }
  },
  "cells": [
    {
      "cell_type": "markdown",
      "metadata": {
        "id": "view-in-github",
        "colab_type": "text"
      },
      "source": [
        "<a href=\"https://colab.research.google.com/github/Li-Yi-Shiang/Computational-Thinking-and-Program-Design/blob/master/%E6%9D%8E%E6%80%A1%E6%B9%98_week11_%E5%B0%8D%E8%A9%B1%E6%A9%9F%E5%99%A8%E4%BA%BA%E5%B0%88%E9%A1%8C.ipynb\" target=\"_parent\"><img src=\"https://colab.research.google.com/assets/colab-badge.svg\" alt=\"Open In Colab\"/></a>"
      ]
    },
    {
      "cell_type": "code",
      "metadata": {
        "id": "cKyu_ArSXGXR"
      },
      "source": [
        "# chatbot introduction\n",
        "print(\"Hello. I am Zyxo 64. I am a chatbot\")\n",
        "print(\"I like animals and I love to talk about food\")\n",
        "name = input(\"What is your name?: \")\n",
        "print(\"Hello\", name, \", Nice to meet you\")\n",
        "\n",
        "# get year information\n",
        "year = input(\"I am not very good at dates. What \\\n",
        "is the year?: \")\n",
        "print(\"Yes, I think that is correct. Thanks! \")\n",
        "\n",
        "# ask user to guess age\n",
        "myage = input(\"Can you guess my age? - enter a \\\n",
        "number: \")\n",
        "print(\"Yes you are right. I am \", myage)\n",
        "\n",
        "# do math to calculate when chatbot will be 100\n",
        "myage = int(myage)\n",
        "nyears = 100 - myage\n",
        "print(\"I will be 100 in\", nyears, \"years\")\n",
        "print(\"That will be the year\", int(year) + \\ nyears)\n",
        "\n",
        "# food conversation\n",
        "print(\"I love chocolate and I also like trying out new kinds of\n",
        "food\")\n",
        "food = input(\"How about you? What is your favorite food?: \")\n",
        "print(\"I like\", food, \"too.\")\n",
        "question = \"How often do you eat \" + food + \"?: \"\n",
        "howoften = input(question)\n",
        "print(\"Interesting. I wonder if that is good for your health\")\n",
        "\n",
        "# animal conversation\n",
        "animal = input(\"My favorite animal is a giraffe. What is yours?:\n",
        "\")\n",
        "print(animal,\"! I do not like them.\")\n",
        "print(\"I wonder if a\", animal, \"likes to eat\", food, \"?\")\n",
        "\n",
        "# conversation about feelings\n",
        "feeling = input(\"How are you feeling today?: \")\n",
        "print(\"Why are you feeling\", feeling, \"now?\")\n",
        "reason = input(\"Please tell me: \")\n",
        "print(\"I understand. Thanks for sharing\")\n",
        "\n",
        "# goodbye\n",
        "print(\"It has been a long day\")\n",
        "print(\"I am too tired to talk. We can chat again later.\")\n",
        "print(\"Goodbye\", name, \"I liked chatting with you\")"
      ],
      "execution_count": null,
      "outputs": []
    }
  ]
}