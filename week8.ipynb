{
  "nbformat": 4,
  "nbformat_minor": 0,
  "metadata": {
    "colab": {
      "name": "week8.ipynb",
      "provenance": [],
      "authorship_tag": "ABX9TyMBmiuczpoTHXBZYmp7Z7Lx",
      "include_colab_link": true
    },
    "kernelspec": {
      "name": "python3",
      "display_name": "Python 3"
    }
  },
  "cells": [
    {
      "cell_type": "markdown",
      "metadata": {
        "id": "view-in-github",
        "colab_type": "text"
      },
      "source": [
        "<a href=\"https://colab.research.google.com/github/Li-Yi-Shiang/Computational-Thinking-and-Program-Design/blob/master/week8.ipynb\" target=\"_parent\"><img src=\"https://colab.research.google.com/assets/colab-badge.svg\" alt=\"Open In Colab\"/></a>"
      ]
    },
    {
      "cell_type": "code",
      "metadata": {
        "id": "CQ25TBxrHhvn",
        "outputId": "07ba27b2-1b72-4da1-fc49-515a4523b79f",
        "colab": {
          "base_uri": "https://localhost:8080/"
        }
      },
      "source": [
        "#1 服裝訂購系統\n",
        "## 假設上衣300元、褲子350元與背心400元,使用者可以自行輸入三種服裝的數量,請設計一個程式計算訂購服裝的總金額。\n",
        "\n",
        "C = int(input(\"請輸入上衣數量?\"))\n",
        "P = int(input(\"請輸入褲子數量?\"))\n",
        "V = int(input(\"請輸入背心數量?\"))\n",
        "\n",
        "Total = 300*C + 350*P + 400*V\n",
        "\n",
        "print(\"服裝訂購總額為\", Total)"
      ],
      "execution_count": 1,
      "outputs": [
        {
          "output_type": "stream",
          "text": [
            "請輸入上衣數量?5\n",
            "請輸入褲子數量?5\n",
            "請輸入背心數量?5\n",
            "服裝訂購總額為 5250\n"
          ],
          "name": "stdout"
        }
      ]
    },
    {
      "cell_type": "code",
      "metadata": {
        "id": "ddc_ste8L9SP",
        "outputId": "996d6e7f-cf5c-475a-cb84-d4802871dc72",
        "colab": {
          "base_uri": "https://localhost:8080/"
        }
      },
      "source": [
        "#2 賣場買飲料\n",
        "##為了刺激銷售量,賣場通常買一打會比買一罐便宜,假設一罐賣20元,一打賣200元,請設計一個程式計算買幾罐需花多少錢,若不足一打就個別買。\n",
        "\n",
        "C = int(input(\"請輸入飲料罐數?\"))\n",
        "\n",
        "Total = (C//12)*200 + (C%12)*20\n",
        "\n",
        "print(\"飲料總共需花費\", Total)"
      ],
      "execution_count": 2,
      "outputs": [
        {
          "output_type": "stream",
          "text": [
            "請輸入飲料罐數?30\n",
            "飲料總共需花費 520\n"
          ],
          "name": "stdout"
        }
      ]
    },
    {
      "cell_type": "code",
      "metadata": {
        "id": "BStpQpOkMIZL",
        "outputId": "4ad8d6cc-82a7-449b-e222-26ac1f4d7876",
        "colab": {
          "base_uri": "https://localhost:8080/"
        }
      },
      "source": [
        "#3 求三數總和與平均\n",
        "## 求第一次期中考、第二次期中考與期末考成績,成績皆為整數,請計算分數的加總與平均。\n",
        "\n",
        "F = int(input(\"請輸入第一次期中考成績?\"))\n",
        "S = int(input(\"請輸入第二次期中考成績?\"))\n",
        "T = int(input(\"請輸入期末考成績?\"))\n",
        "\n",
        "Total = F + S + T\n",
        "avg = Total/3\n",
        "\n",
        "print(\"總分為\", Total, \"平均為\",avg)"
      ],
      "execution_count": 3,
      "outputs": [
        {
          "output_type": "stream",
          "text": [
            "請輸入第一次期中考成績?75\n",
            "請輸入第二次期中考成績?80\n",
            "請輸入期末考成績?65\n",
            "總分為 220 平均為 73.33333333333333\n"
          ],
          "name": "stdout"
        }
      ]
    }
  ]
}