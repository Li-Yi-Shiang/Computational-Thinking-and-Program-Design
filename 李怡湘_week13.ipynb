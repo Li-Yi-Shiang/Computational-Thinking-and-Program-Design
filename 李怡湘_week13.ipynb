{
  "nbformat": 4,
  "nbformat_minor": 0,
  "metadata": {
    "colab": {
      "name": "李怡湘_week13.ipynb",
      "provenance": [],
      "authorship_tag": "ABX9TyPnA444xosjdBSmx4vTvxCl",
      "include_colab_link": true
    },
    "kernelspec": {
      "name": "python3",
      "display_name": "Python 3"
    }
  },
  "cells": [
    {
      "cell_type": "markdown",
      "metadata": {
        "id": "view-in-github",
        "colab_type": "text"
      },
      "source": [
        "<a href=\"https://colab.research.google.com/github/Li-Yi-Shiang/Computational-Thinking-and-Program-Design/blob/master/%E6%9D%8E%E6%80%A1%E6%B9%98_week13.ipynb\" target=\"_parent\"><img src=\"https://colab.research.google.com/assets/colab-badge.svg\" alt=\"Open In Colab\"/></a>"
      ]
    },
    {
      "cell_type": "code",
      "metadata": {
        "id": "kkwZDTigo-9E"
      },
      "source": [
        "# 資料容器-List\n",
        "\n",
        "## 文字串列\n",
        "## 數字串列\n",
        "## 混和串列\n",
        "\n",
        "list1 = [1,2,3,4,5]\n",
        "\n",
        "## 索引 position index - 0\n",
        "\n",
        "list1[0] # 1\n",
        "list1[4] # 5\n",
        "list1[-1] # 5\n",
        "\n",
        "## **切片**\n",
        "list1[1:4] # [2, 3, 4]\n",
        "\n",
        "# 數字串列二: range()\n",
        "list1 = [1,2,3,4,5]\n",
        "\n",
        "list2 = range(1,10000,1) # [1,2,3,4,5]\n",
        "\n",
        "list3 = range(1,6,2) # [1,3,5]"
      ],
      "execution_count": 8,
      "outputs": []
    },
    {
      "cell_type": "code",
      "metadata": {
        "colab": {
          "base_uri": "https://localhost:8080/"
        },
        "id": "lnkwJXdeyLsc",
        "outputId": "54ad9991-06d7-4476-cc60-34a78a38e482"
      },
      "source": [
        "# range(start, stop, step)\n",
        "# [0, 1, 2, 3, 4, 5, 6, 7, 8, 9]\n",
        "## star = 0, step = 1, stop = 10\n",
        "range(0,10,1)\n",
        "range(0,10)\n",
        "list4 = range(10)\n",
        "print(list4[0], list4[1], list4[2], list4[3], list4[4], list4[5], list4[6], list4[7], list4[8], list4[9])\n",
        "\n",
        "\n",
        "# [0,2,4,6,8]\n",
        "## star = 0, step = 2, stop = 10\n",
        "k = range(0,10,2)\n",
        "print(k[0], k[1], k[2], k[3], k[4])\n",
        "\n",
        "# [5,7,9]\n",
        "## star = 5, step = 2, stop = 11\n",
        "p = range(5,11,2)\n",
        "print(p[0], p[1], p[2])\n",
        "\n",
        "# [0,-1,-2,-3,-4,-5,-6,-7,-8,-9]\n",
        "## star = 0, step = -1, stop = -10\n",
        "h = range(0,-10,-1)\n",
        "print(h[0], h[1], h[2], h[3], h[4], h[5], h[6], h[7], h[8], h[9])"
      ],
      "execution_count": 20,
      "outputs": [
        {
          "output_type": "stream",
          "text": [
            "0 1 2 3 4 5 6 7 8 9\n",
            "0 2 4 6 8\n",
            "5 7 9\n",
            "0 -1 -2 -3 -4 -5 -6 -7 -8 -9\n"
          ],
          "name": "stdout"
        }
      ]
    },
    {
      "cell_type": "code",
      "metadata": {
        "colab": {
          "base_uri": "https://localhost:8080/"
        },
        "id": "K6GDjrdG1TZW",
        "outputId": "296af996-5ec3-4cd1-9f5e-9c17ab269be0"
      },
      "source": [
        "for i in range(1,6,1):\n",
        "  print(\"Hello\")"
      ],
      "execution_count": 30,
      "outputs": [
        {
          "output_type": "stream",
          "text": [
            "Hello\n",
            "Hello\n",
            "Hello\n",
            "Hello\n",
            "Hello\n"
          ],
          "name": "stdout"
        }
      ]
    },
    {
      "cell_type": "code",
      "metadata": {
        "colab": {
          "base_uri": "https://localhost:8080/"
        },
        "id": "94j9DVHg-2KG",
        "outputId": "89ced2e1-78f4-4dc2-cc7e-04f6ee6ed3c0"
      },
      "source": [
        "#數字1到10之和。\n",
        "## 1+2+3+4+5+6+7+8+9+10=?\n",
        "sum = 0 # 起始條件\n",
        "for i in range(1,11,1): #數字串列[1,2,3,4,5,6,7,8,9,10]\n",
        "  sum = sum + i # 加總運算,變更條件\n",
        "print(\"Total is\", sum)"
      ],
      "execution_count": 33,
      "outputs": [
        {
          "output_type": "stream",
          "text": [
            "Total is 55\n"
          ],
          "name": "stdout"
        }
      ]
    },
    {
      "cell_type": "code",
      "metadata": {
        "colab": {
          "base_uri": "https://localhost:8080/"
        },
        "id": "73MK14dL8Eyl",
        "outputId": "adbc1475-54b2-48f3-9a13-cbd302c250bc"
      },
      "source": [
        "# 2+4+6+8+10 = ?\n",
        "sum = 0\n",
        "for i in range(2,11,2):\n",
        "  sum = sum + i\n",
        "print(\"Total is\", sum)"
      ],
      "execution_count": 31,
      "outputs": [
        {
          "output_type": "stream",
          "text": [
            "Total is 30\n"
          ],
          "name": "stdout"
        }
      ]
    },
    {
      "cell_type": "code",
      "metadata": {
        "colab": {
          "base_uri": "https://localhost:8080/"
        },
        "id": "43CMzbAE97Ka",
        "outputId": "15ed4838-3c2c-4865-e2fb-ae9910ea756c"
      },
      "source": [
        "# 3+6+9+12 = ?\n",
        "sum = 0\n",
        "for i in range(3,15,3):\n",
        "  sum = sum + i\n",
        "print(\"Total is\", sum)"
      ],
      "execution_count": 32,
      "outputs": [
        {
          "output_type": "stream",
          "text": [
            "Total is 30\n"
          ],
          "name": "stdout"
        }
      ]
    }
  ]
}