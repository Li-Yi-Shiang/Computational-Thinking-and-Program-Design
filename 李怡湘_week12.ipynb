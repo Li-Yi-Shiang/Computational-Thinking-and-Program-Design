{
  "nbformat": 4,
  "nbformat_minor": 0,
  "metadata": {
    "colab": {
      "name": "李怡湘_week12.ipynb",
      "provenance": [],
      "collapsed_sections": [],
      "authorship_tag": "ABX9TyNQEjw8rwNq2LGsaPPOpzXs",
      "include_colab_link": true
    },
    "kernelspec": {
      "name": "python3",
      "display_name": "Python 3"
    }
  },
  "cells": [
    {
      "cell_type": "markdown",
      "metadata": {
        "id": "view-in-github",
        "colab_type": "text"
      },
      "source": [
        "<a href=\"https://colab.research.google.com/github/Li-Yi-Shiang/Computational-Thinking-and-Program-Design/blob/master/%E6%9D%8E%E6%80%A1%E6%B9%98_week12.ipynb\" target=\"_parent\"><img src=\"https://colab.research.google.com/assets/colab-badge.svg\" alt=\"Open In Colab\"/></a>"
      ]
    },
    {
      "cell_type": "code",
      "metadata": {
        "id": "2Xb16DB3n-Om",
        "outputId": "92a9e0a0-26f6-4280-a233-660ae3bb0475",
        "colab": {
          "base_uri": "https://localhost:8080/"
        }
      },
      "source": [
        "hello1 = \"Hello World!\"\n",
        "hello2 = \"Hello Python\"\n",
        "hello3 = \"Shaquile O'Neil\"\n",
        "\n",
        "s1 = \"123\"\n",
        "s2 = \"456\"\n",
        "s3 = s1 + s2\n",
        "print(s3)\n",
        "s4 = s1 * 2\n",
        "print(s4)\n",
        "\n",
        "s1 = \"An apple a day.\"\n",
        "print(s1.capitalize())\n",
        "print(s1.title())\n",
        "print(s1.swapcase())\n",
        "print(s1.upper())\n",
        "print(s1.lower())"
      ],
      "execution_count": 1,
      "outputs": [
        {
          "output_type": "stream",
          "text": [
            "123456\n",
            "123123\n",
            "An apple a day.\n",
            "An Apple A Day.\n",
            "aN APPLE A DAY.\n",
            "AN APPLE A DAY.\n",
            "an apple a day.\n"
          ],
          "name": "stdout"
        }
      ]
    },
    {
      "cell_type": "code",
      "metadata": {
        "id": "Pd9YEfY1xDcj",
        "outputId": "039a8699-4527-4194-a6ec-2d76c2312527",
        "colab": {
          "base_uri": "https://localhost:8080/"
        }
      },
      "source": [
        "favorite_list = [\"strawberry\",\"pineapple\",\"rice\",\"milk\",\"badminton\"]\n",
        "print(favorite_list)"
      ],
      "execution_count": 2,
      "outputs": [
        {
          "output_type": "stream",
          "text": [
            "['strawberry', 'pineapple', 'rice', 'milk', 'badminton']\n"
          ],
          "name": "stdout"
        }
      ]
    },
    {
      "cell_type": "code",
      "metadata": {
        "id": "PaRLl56U3yVx",
        "outputId": "f7011896-44ad-4582-c159-610094ff8d8c",
        "colab": {
          "base_uri": "https://localhost:8080/"
        }
      },
      "source": [
        "season = \"1995-1996\" \n",
        "team = \"Chicago Bulls\" \n",
        "coach = \"Phil Jackson\" \n",
        "records = [72, 10] \n",
        "starting_lineup = [\"Ron Harper\", \"Michael Jordan\", \"Scottie Pippen\", \"Dennis Rodman\", \"Luc Longley\"] \n",
        "won_championship = True \n",
        "best_chicago_bulls = list((season, team, coach, records, starting_lineup, won_championship)) \n",
        "print(best_chicago_bulls) \n",
        "print(type(best_chicago_bulls))"
      ],
      "execution_count": 3,
      "outputs": [
        {
          "output_type": "stream",
          "text": [
            "['1995-1996', 'Chicago Bulls', 'Phil Jackson', [72, 10], ['Ron Harper', 'Michael Jordan', 'Scottie Pippen', 'Dennis Rodman', 'Luc Longley'], True]\n",
            "<class 'list'>\n"
          ],
          "name": "stdout"
        }
      ]
    }
  ]
}